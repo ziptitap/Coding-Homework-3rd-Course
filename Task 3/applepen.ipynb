{
 "cells": [
  {
   "cell_type": "markdown",
   "metadata": {
    "colab_type": "text",
    "id": "siVnr-S5gb78"
   },
   "source": [
    "### 1. Состояние склада на каждый день"
   ]
  },
  {
   "cell_type": "code",
   "execution_count": 1,
   "metadata": {
    "colab": {},
    "colab_type": "code",
    "id": "tcSW-2J8jVL2"
   },
   "outputs": [],
   "source": [
    "import io\n",
    "import requests\n",
    "import pandas as pd\n",
    "import itertools as it"
   ]
  },
  {
   "cell_type": "code",
   "execution_count": 2,
   "metadata": {
    "colab": {},
    "colab_type": "code",
    "id": "uzMT1yibjVME",
    "jupyter": {
     "source_hidden": true
    }
   },
   "outputs": [],
   "source": [
    "def read(name):\n",
    "    return pd.read_csv('out/input/'+name)\n",
    "    # return pd.read_csv()"
   ]
  },
  {
   "cell_type": "code",
   "execution_count": 3,
   "metadata": {
    "colab": {},
    "colab_type": "code",
    "id": "VEyVK_ZkjVMQ"
   },
   "outputs": [],
   "source": [
    "def sell_per_day(df):\n",
    "    df['date'] = pd.to_datetime(df.date, format='%Y-%m-%d')\n",
    "    df['sku_num'] = df['sku_num'].str[6:8]\n",
    "    sell = df.groupby(pd.Grouper(key='date', freq='D'))['sku_num'].value_counts()\n",
    "    df1 = sell[sell.index.get_level_values(1) == 'ap']\n",
    "    df2 = sell[sell.index.get_level_values(1) == 'pe']\n",
    "    df1 = df1.droplevel(1)\n",
    "    df2 = df2.droplevel(1)\n",
    "    return df1, df2  "
   ]
  },
  {
   "cell_type": "code",
   "execution_count": 4,
   "metadata": {
    "colab": {},
    "colab_type": "code",
    "id": "XAHylw8cjVMY",
    "jupyter": {
     "source_hidden": true
    }
   },
   "outputs": [],
   "source": [
    "from datetime import datetime\n",
    "\n",
    "def check_dims(ar1, ar2):\n",
    "    a = ar1.reset_index()\n",
    "    a['date'] = pd.to_datetime(a.date, format='%Y-%m-%d')\n",
    "    b = ar2.reset_index()\n",
    "    \n",
    "    res = pd.concat([a['date'], b['date']]).drop_duplicates(keep=False)\n",
    "    \n",
    "    if res.empty:\n",
    "        return -1, -1\n",
    "   \n",
    "    d1 = datetime.strptime(\"2006-01-01\", '%Y-%m-%d')\n",
    "    d2 = datetime.strptime(str(res.values)[2:12], '%Y-%m-%d')\n",
    "\n",
    "    return (d2 - d1).days, d2\n",
    "    \n",
    "    "
   ]
  },
  {
   "cell_type": "code",
   "execution_count": 5,
   "metadata": {
    "colab": {},
    "colab_type": "code",
    "id": "GhATK8VljVMg",
    "jupyter": {
     "source_hidden": true
    },
    "scrolled": true
   },
   "outputs": [],
   "source": [
    "def left_in_stock(df, name1, name2, product): # name1 = MS-b1-supply.csv product apple or pan\n",
    "    # df - кол-во проданного товара в кадый день\n",
    "    idx = df[(df.index.day == 1) | (df.index.day == 15)] # из датасета продаж выбираем продажи в 1 и 15 день\n",
    "    supply = read(name1) # привезли на склад \n",
    "    \n",
    "    i, d2 = check_dims(supply, idx)\n",
    "    if i != -1:\n",
    "        new_row = pd.Series([0], index=[str(d2)[:10]])\n",
    "        new_row.index = pd.to_datetime(new_row.index, format='%Y-%m-%d')\n",
    "        new_row.index.name = 'date'\n",
    "        df = pd.concat([df.iloc[:i], new_row, df.iloc[i:]])\n",
    "        idx = df[(df.index.day == 1) | (df.index.day == 15)]\n",
    "        \n",
    "    df[idx.index] = supply[product] - idx.values # в каждый 1 и 15 день месяца привозят новый товар => нам надо в эти дни \n",
    "                        # прибавить привезенный и вычесть то что продали\n",
    "        \n",
    "    idx  = df[(df.index.day != 1) & (df.index.day != 15)]\n",
    "    df[idx.index] *= -1 # умножаем на -1 все дни которые не 1 и не 15, потому что it.accumulate умеет тока складывать\n",
    "    \n",
    "    on_stock = read(name2) # в конце месяца у нас есть данные сколько продуктов осталось на складе на самом деле\n",
    "                              # эти данные отличаются от полученных мной(изза краж) соглавно заданию нам надо в конце кажд месяца\n",
    "                              # заменить данные посчитанные мной на известные. Что я и буду ща делать\n",
    "    on_stock['date'] = pd.to_datetime(on_stock.date, format='%Y-%m-%d')\n",
    "    df[on_stock.date] = on_stock[product]\n",
    "    \n",
    "    daily_on_stock = []  # ну а терь считам скока осталось на складе каждый день \n",
    "    # day 01.1: supply - sell_1\n",
    "    # day 01.2: supply - sell_1 - sell_2\n",
    "    # day 01.3: supply - sell_1 - sell_2 - sell_3\n",
    "    # ...\n",
    "    # day 01.15: day 14 + supply - sell_15\n",
    "    # day 01.31: on_stock[product]\n",
    "    # day 02.1: on_stock[product] - sell_32\n",
    "    for i in range(len(on_stock)):\n",
    "        if i == 0:\n",
    "            ss = df[(df.index < on_stock.date[i])]\n",
    "        else:\n",
    "            ss = df[(df.index >= d) & (df.index < on_stock.date[i])]\n",
    "            \n",
    "        daily_on_stock += list(it.accumulate(ss))\n",
    "        d = on_stock.date[i]\n",
    "        \n",
    "    daily_on_stock.append(int(on_stock[product].tail(1).values)) \n",
    "    return daily_on_stock"
   ]
  },
  {
   "cell_type": "code",
   "execution_count": 6,
   "metadata": {
    "colab": {},
    "colab_type": "code",
    "id": "WzBkFtuejVMo",
    "jupyter": {
     "source_hidden": true
    }
   },
   "outputs": [],
   "source": [
    "def check_daily_on_stock(my_ans_apple, my_ans_pen, ans):\n",
    "    res1 = pd.concat([pd.Series(my_ans_apple), ans['apple']]).drop_duplicates(keep=False)\n",
    "    res2 = pd.concat([pd.Series(my_ans_pen), ans['pen']]).drop_duplicates(keep=False)\n",
    "    return res1.empty and res2.empty"
   ]
  },
  {
   "cell_type": "code",
   "execution_count": 7,
   "metadata": {
    "colab": {},
    "colab_type": "code",
    "id": "DtYpAl2UjVMu",
    "jupyter": {
     "source_hidden": true
    }
   },
   "outputs": [],
   "source": [
    "names_sell = ['MS-b1-sell.csv', \n",
    "         'MS-b2-sell.csv',\n",
    "         'MS-m1-sell.csv',\n",
    "         'MS-m2-sell.csv',\n",
    "         'MS-s1-sell.csv',\n",
    "         'MS-s2-sell.csv',\n",
    "         'MS-s3-sell.csv',\n",
    "         'MS-s4-sell.csv',\n",
    "         'MS-s5-sell.csv']\n",
    "\n",
    "names_supply = ['MS-b1-supply.csv', \n",
    "         'MS-b2-supply.csv',\n",
    "         'MS-m1-supply.csv',\n",
    "         'MS-m2-supply.csv',\n",
    "         'MS-s1-supply.csv',\n",
    "         'MS-s2-supply.csv',\n",
    "         'MS-s3-supply.csv',\n",
    "         'MS-s4-supply.csv',\n",
    "         'MS-s5-supply.csv']\n",
    "\n",
    "names_inventory = ['MS-b1-inventory.csv', \n",
    "         'MS-b2-inventory.csv',\n",
    "         'MS-m1-inventory.csv',\n",
    "         'MS-m2-inventory.csv',\n",
    "         'MS-s1-inventory.csv',\n",
    "         'MS-s2-inventory.csv',\n",
    "         'MS-s3-inventory.csv',\n",
    "         'MS-s4-inventory.csv',\n",
    "         'MS-s5-inventory.csv']"
   ]
  },
  {
   "cell_type": "code",
   "execution_count": null,
   "metadata": {
    "colab": {},
    "colab_type": "code",
    "id": "mXcwMsWtjVMz"
   },
   "outputs": [],
   "source": [
    "apple_on_stock = []\n",
    "pen_on_stock = []\n",
    "for name in zip(names_sell, names_supply, names_inventory):\n",
    "    sell = read(name[0])\n",
    "    daily_sales_apple, daily_sales_pen = sell_per_day(sell)\n",
    "    apple_on_stock.append(left_in_stock(daily_sales_apple, name[1], name[2], 'apple'))\n",
    "    pen_on_stock.append(left_in_stock(daily_sales_pen, name[1], name[2], 'pen'))"
   ]
  },
  {
   "cell_type": "markdown",
   "metadata": {
    "colab_type": "text",
    "id": "6ckF27A3jVNL"
   },
   "source": [
    "### 2. Подсчет сворованного товара за каждый месяц"
   ]
  },
  {
   "cell_type": "markdown",
   "metadata": {
    "colab_type": "text",
    "id": "fJK35PoIjVNS"
   },
   "source": [
    "Загрузим данные"
   ]
  },
  {
   "cell_type": "code",
   "execution_count": 11,
   "metadata": {
    "colab": {},
    "colab_type": "code",
    "id": "DRkxgl-8jVNU"
   },
   "outputs": [],
   "source": [
    "markets = ['b1', 'b2', 'm1', 'm2', 's1', 's2', 's3', 's4', 's5']   # id'шники магазинов\n",
    "data = []\n",
    "\n",
    "for market in markets:\n",
    "    inventory = pd.read_csv(f'out/input/MS-{market}-inventory.csv')\n",
    "    sell = pd.read_csv(f'out/input/MS-{market}-sell.csv')\n",
    "    supply = pd.read_csv(f'out/input/MS-{market}-supply.csv')\n",
    "    data.append((inventory, sell, supply))"
   ]
  },
  {
   "cell_type": "markdown",
   "metadata": {
    "colab_type": "text",
    "id": "9RvjFL-FjVNa"
   },
   "source": [
    "Переведем в удобный формат (присвоим индексам таблицы дату)"
   ]
  },
  {
   "cell_type": "code",
   "execution_count": 12,
   "metadata": {
    "colab": {},
    "colab_type": "code",
    "id": "4eVMJdtxjVNb"
   },
   "outputs": [],
   "source": [
    "dataReserve = data\n",
    "for market in dataReserve:\n",
    "    for file in market:\n",
    "        file['date'] = pd.to_datetime(file.date, format='%Y-%m-%d')\n",
    "        file.index = file.date\n",
    "        file.drop('date', axis=1, inplace=True)"
   ]
  },
  {
   "cell_type": "markdown",
   "metadata": {
    "colab_type": "text",
    "id": "YkgbI29wjVNh"
   },
   "source": [
    "Создадим нужный временной интервал"
   ]
  },
  {
   "cell_type": "code",
   "execution_count": 13,
   "metadata": {
    "colab": {},
    "colab_type": "code",
    "id": "rylTqZ59jVNj"
   },
   "outputs": [],
   "source": [
    "daterange = pd.date_range('2006-01','2015-12', freq='MS').strftime(\"%Y-%m\").tolist()"
   ]
  },
  {
   "cell_type": "markdown",
   "metadata": {
    "colab_type": "text",
    "id": "j7yMfvPijVNo"
   },
   "source": [
    "Подсчет украденных яблок и карандашей для каждого магазина"
   ]
  },
  {
   "cell_type": "code",
   "execution_count": 14,
   "metadata": {
    "colab": {},
    "colab_type": "code",
    "id": "D5oz-MOUjVNp"
   },
   "outputs": [],
   "source": [
    "rows, result = [], []\n",
    "\n",
    "for market, name in zip(dataReserve, markets):\n",
    "    if rows:\n",
    "        result.append(pd.DataFrame(rows, columns=columns))\n",
    "    columns = ['date', 'apple', 'pen']\n",
    "    rows = []\n",
    "    inventory_apple_at_the_end_of_month = 0\n",
    "    inventory_pen_at_the_end_of_month = 0\n",
    "    for month in daterange:\n",
    "        total_apple_supply_in_month = market[2].loc[month].apple.sum() + inventory_apple_at_the_end_of_month            \n",
    "        total_pen_supply_in_month = market[2].loc[month].pen.sum() + inventory_pen_at_the_end_of_month\n",
    "        total_apple_sell_in_month = len(market[1].loc[month][market[1].loc[month]['sku_num'].str.match(f'MS-{name}-a')])\n",
    "        total_pen_sell_in_month = len(market[1].loc[month][market[1].loc[month]['sku_num'].str.match(f'MS-{name}-p')])\n",
    "        inventory_apple_at_the_end_of_month = market[0].loc[month].apple.sum()\n",
    "        inventory_pen_at_the_end_of_month = market[0].loc[month].pen.sum()        \n",
    "        stolen_apples = total_apple_supply_in_month - total_apple_sell_in_month - inventory_apple_at_the_end_of_month\n",
    "        stolen_pens = total_pen_supply_in_month - total_pen_sell_in_month - inventory_pen_at_the_end_of_month\n",
    "        row = [month, stolen_apples, stolen_pens]\n",
    "        rows.append(row)\n",
    "        \n",
    "result.append(pd.DataFrame(rows, columns=columns))"
   ]
  },
  {
   "cell_type": "code",
   "execution_count": 15,
   "metadata": {},
   "outputs": [
    {
     "data": {
      "text/html": [
       "<div>\n",
       "<style scoped>\n",
       "    .dataframe tbody tr th:only-of-type {\n",
       "        vertical-align: middle;\n",
       "    }\n",
       "\n",
       "    .dataframe tbody tr th {\n",
       "        vertical-align: top;\n",
       "    }\n",
       "\n",
       "    .dataframe thead th {\n",
       "        text-align: right;\n",
       "    }\n",
       "</style>\n",
       "<table border=\"1\" class=\"dataframe\">\n",
       "  <thead>\n",
       "    <tr style=\"text-align: right;\">\n",
       "      <th></th>\n",
       "      <th>date</th>\n",
       "      <th>apple</th>\n",
       "      <th>pen</th>\n",
       "    </tr>\n",
       "  </thead>\n",
       "  <tbody>\n",
       "    <tr>\n",
       "      <th>0</th>\n",
       "      <td>2006-01</td>\n",
       "      <td>0</td>\n",
       "      <td>1</td>\n",
       "    </tr>\n",
       "    <tr>\n",
       "      <th>1</th>\n",
       "      <td>2006-02</td>\n",
       "      <td>2</td>\n",
       "      <td>1</td>\n",
       "    </tr>\n",
       "    <tr>\n",
       "      <th>2</th>\n",
       "      <td>2006-03</td>\n",
       "      <td>4</td>\n",
       "      <td>3</td>\n",
       "    </tr>\n",
       "    <tr>\n",
       "      <th>3</th>\n",
       "      <td>2006-04</td>\n",
       "      <td>1</td>\n",
       "      <td>1</td>\n",
       "    </tr>\n",
       "    <tr>\n",
       "      <th>4</th>\n",
       "      <td>2006-05</td>\n",
       "      <td>2</td>\n",
       "      <td>2</td>\n",
       "    </tr>\n",
       "    <tr>\n",
       "      <th>...</th>\n",
       "      <td>...</td>\n",
       "      <td>...</td>\n",
       "      <td>...</td>\n",
       "    </tr>\n",
       "    <tr>\n",
       "      <th>115</th>\n",
       "      <td>2015-08</td>\n",
       "      <td>2</td>\n",
       "      <td>3</td>\n",
       "    </tr>\n",
       "    <tr>\n",
       "      <th>116</th>\n",
       "      <td>2015-09</td>\n",
       "      <td>5</td>\n",
       "      <td>4</td>\n",
       "    </tr>\n",
       "    <tr>\n",
       "      <th>117</th>\n",
       "      <td>2015-10</td>\n",
       "      <td>2</td>\n",
       "      <td>2</td>\n",
       "    </tr>\n",
       "    <tr>\n",
       "      <th>118</th>\n",
       "      <td>2015-11</td>\n",
       "      <td>1</td>\n",
       "      <td>0</td>\n",
       "    </tr>\n",
       "    <tr>\n",
       "      <th>119</th>\n",
       "      <td>2015-12</td>\n",
       "      <td>2</td>\n",
       "      <td>2</td>\n",
       "    </tr>\n",
       "  </tbody>\n",
       "</table>\n",
       "<p>120 rows × 3 columns</p>\n",
       "</div>"
      ],
      "text/plain": [
       "        date  apple  pen\n",
       "0    2006-01      0    1\n",
       "1    2006-02      2    1\n",
       "2    2006-03      4    3\n",
       "3    2006-04      1    1\n",
       "4    2006-05      2    2\n",
       "..       ...    ...  ...\n",
       "115  2015-08      2    3\n",
       "116  2015-09      5    4\n",
       "117  2015-10      2    2\n",
       "118  2015-11      1    0\n",
       "119  2015-12      2    2\n",
       "\n",
       "[120 rows x 3 columns]"
      ]
     },
     "execution_count": 15,
     "metadata": {},
     "output_type": "execute_result"
    }
   ],
   "source": [
    "result[8] # stealed goods from s5 market"
   ]
  },
  {
   "cell_type": "markdown",
   "metadata": {
    "colab_type": "text",
    "id": "1-FXdKocjVNv"
   },
   "source": [
    "Сохраним таблицы сворованных товаров в csv"
   ]
  },
  {
   "cell_type": "code",
   "execution_count": 16,
   "metadata": {
    "colab": {},
    "colab_type": "code",
    "id": "X4dT6hcqjVNw",
    "jupyter": {
     "source_hidden": true
    }
   },
   "outputs": [],
   "source": [
    "for df, name in zip(result, markets):\n",
    "    df.to_csv(f'MS-{name}-steal.csv', index=False)"
   ]
  }
 ],
 "metadata": {
  "colab": {
   "collapsed_sections": [
    "siVnr-S5gb78"
   ],
   "name": "task3_Yulya_apple-pan_draft.ipynb",
   "provenance": []
  },
  "kernelspec": {
   "display_name": "Python 3",
   "language": "python",
   "name": "python3"
  },
  "language_info": {
   "codemirror_mode": {
    "name": "ipython",
    "version": 3
   },
   "file_extension": ".py",
   "mimetype": "text/x-python",
   "name": "python",
   "nbconvert_exporter": "python",
   "pygments_lexer": "ipython3",
   "version": "3.8.8"
  }
 },
 "nbformat": 4,
 "nbformat_minor": 4
}
